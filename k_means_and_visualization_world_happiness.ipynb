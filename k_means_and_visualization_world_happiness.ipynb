{
  "cells": [
    {
      "metadata": {
        "_cell_guid": "d675f93d-0c0d-4ac7-b053-dd9065a33d56",
        "_uuid": "3131dcaf31c96c676242a0df7193a99d2d3bce2d"
      },
      "cell_type": "markdown",
      "source": "**Визуализация и Кластеризация данных: Отчет по мировым показателям счастья.**\n\nПоказана базовая визуализация с использованием карты хороплет. Далее произведена кластеризация с использованием алгоритма k-means на нескольких факторах, таких как ВВП на душу населения, ожидаемая продолжительность жизни, коррупция и так далее. Данные взяты за 2017 год.  "
    },
    {
      "metadata": {
        "_cell_guid": "d961dd33-8257-4064-80fe-29c202d672fe",
        "_uuid": "0992f2ae0d2bb5a57d788d9cdd375bb6b1e95fb4",
        "trusted": true
      },
      "cell_type": "code",
      "source": "#Call required libraries\nimport time                   # To time processes\nimport warnings               # To suppress warnings\n\nimport numpy as np            # Data manipulation\nimport pandas as pd           # Dataframe manipulatio \nimport matplotlib.pyplot as plt                   # For graphics\nimport seaborn as sns\nimport plotly.plotly as py #For World Map\nimport plotly.graph_objs as go\nfrom plotly.offline import download_plotlyjs, init_notebook_mode, plot, iplot\ninit_notebook_mode(connected=True)\n\nfrom sklearn.preprocessing import StandardScaler  # For scaling dataset\nfrom sklearn.cluster import KMeans, AgglomerativeClustering, AffinityPropagation #For clustering\nfrom sklearn.mixture import GaussianMixture #For GMM clustering\n\nimport os                     # For os related operations\nimport sys                    # For data size\n",
      "execution_count": 234,
      "outputs": [
        {
          "output_type": "display_data",
          "data": {
            "text/html": "<script>requirejs.config({paths: { 'plotly': ['https://cdn.plot.ly/plotly-latest.min']},});if(!window.Plotly) {{require(['plotly'],function(plotly) {window.Plotly=plotly;});}}</script>",
            "text/vnd.plotly.v1+html": "<script>requirejs.config({paths: { 'plotly': ['https://cdn.plot.ly/plotly-latest.min']},});if(!window.Plotly) {{require(['plotly'],function(plotly) {window.Plotly=plotly;});}}</script>"
          },
          "metadata": {}
        }
      ]
    },
    {
      "metadata": {
        "_cell_guid": "1f8e1c6c-3c6d-42e0-b636-6ab998573190",
        "_uuid": "5c5dd3d5f14263397b29bef8f271e9d5911087db",
        "trusted": true
      },
      "cell_type": "code",
      "source": "wh = pd.read_csv(\"../input/2017.csv\") #Read the dataset\nwh.describe()",
      "execution_count": 235,
      "outputs": [
        {
          "output_type": "execute_result",
          "execution_count": 235,
          "data": {
            "text/plain": "       Happiness.Rank        ...          Dystopia.Residual\ncount      155.000000        ...                 155.000000\nmean        78.000000        ...                   1.850238\nstd         44.888751        ...                   0.500028\nmin          1.000000        ...                   0.377914\n25%         39.500000        ...                   1.591291\n50%         78.000000        ...                   1.832910\n75%        116.500000        ...                   2.144654\nmax        155.000000        ...                   3.117485\n\n[8 rows x 11 columns]",
            "text/html": "<div>\n<style scoped>\n    .dataframe tbody tr th:only-of-type {\n        vertical-align: middle;\n    }\n\n    .dataframe tbody tr th {\n        vertical-align: top;\n    }\n\n    .dataframe thead th {\n        text-align: right;\n    }\n</style>\n<table border=\"1\" class=\"dataframe\">\n  <thead>\n    <tr style=\"text-align: right;\">\n      <th></th>\n      <th>Happiness.Rank</th>\n      <th>Happiness.Score</th>\n      <th>Whisker.high</th>\n      <th>Whisker.low</th>\n      <th>Economy..GDP.per.Capita.</th>\n      <th>Family</th>\n      <th>Health..Life.Expectancy.</th>\n      <th>Freedom</th>\n      <th>Generosity</th>\n      <th>Trust..Government.Corruption.</th>\n      <th>Dystopia.Residual</th>\n    </tr>\n  </thead>\n  <tbody>\n    <tr>\n      <th>count</th>\n      <td>155.000000</td>\n      <td>155.000000</td>\n      <td>155.000000</td>\n      <td>155.000000</td>\n      <td>155.000000</td>\n      <td>155.000000</td>\n      <td>155.000000</td>\n      <td>155.000000</td>\n      <td>155.000000</td>\n      <td>155.000000</td>\n      <td>155.000000</td>\n    </tr>\n    <tr>\n      <th>mean</th>\n      <td>78.000000</td>\n      <td>5.354019</td>\n      <td>5.452326</td>\n      <td>5.255713</td>\n      <td>0.984718</td>\n      <td>1.188898</td>\n      <td>0.551341</td>\n      <td>0.408786</td>\n      <td>0.246883</td>\n      <td>0.123120</td>\n      <td>1.850238</td>\n    </tr>\n    <tr>\n      <th>std</th>\n      <td>44.888751</td>\n      <td>1.131230</td>\n      <td>1.118542</td>\n      <td>1.145030</td>\n      <td>0.420793</td>\n      <td>0.287263</td>\n      <td>0.237073</td>\n      <td>0.149997</td>\n      <td>0.134780</td>\n      <td>0.101661</td>\n      <td>0.500028</td>\n    </tr>\n    <tr>\n      <th>min</th>\n      <td>1.000000</td>\n      <td>2.693000</td>\n      <td>2.864884</td>\n      <td>2.521116</td>\n      <td>0.000000</td>\n      <td>0.000000</td>\n      <td>0.000000</td>\n      <td>0.000000</td>\n      <td>0.000000</td>\n      <td>0.000000</td>\n      <td>0.377914</td>\n    </tr>\n    <tr>\n      <th>25%</th>\n      <td>39.500000</td>\n      <td>4.505500</td>\n      <td>4.608172</td>\n      <td>4.374955</td>\n      <td>0.663371</td>\n      <td>1.042635</td>\n      <td>0.369866</td>\n      <td>0.303677</td>\n      <td>0.154106</td>\n      <td>0.057271</td>\n      <td>1.591291</td>\n    </tr>\n    <tr>\n      <th>50%</th>\n      <td>78.000000</td>\n      <td>5.279000</td>\n      <td>5.370032</td>\n      <td>5.193152</td>\n      <td>1.064578</td>\n      <td>1.253918</td>\n      <td>0.606042</td>\n      <td>0.437454</td>\n      <td>0.231538</td>\n      <td>0.089848</td>\n      <td>1.832910</td>\n    </tr>\n    <tr>\n      <th>75%</th>\n      <td>116.500000</td>\n      <td>6.101500</td>\n      <td>6.194600</td>\n      <td>6.006527</td>\n      <td>1.318027</td>\n      <td>1.414316</td>\n      <td>0.723008</td>\n      <td>0.516561</td>\n      <td>0.323762</td>\n      <td>0.153296</td>\n      <td>2.144654</td>\n    </tr>\n    <tr>\n      <th>max</th>\n      <td>155.000000</td>\n      <td>7.537000</td>\n      <td>7.622030</td>\n      <td>7.479556</td>\n      <td>1.870766</td>\n      <td>1.610574</td>\n      <td>0.949492</td>\n      <td>0.658249</td>\n      <td>0.838075</td>\n      <td>0.464308</td>\n      <td>3.117485</td>\n    </tr>\n  </tbody>\n</table>\n</div>"
          },
          "metadata": {}
        }
      ]
    },
    {
      "metadata": {
        "_cell_guid": "4a995d04-48d1-4f55-80a9-c60547959048",
        "_uuid": "96dedc6041f437863058f1373342927a91076dec",
        "trusted": true
      },
      "cell_type": "code",
      "source": "print(\"Dimension of dataset: wh.shape\")\nwh.dtypes",
      "execution_count": 236,
      "outputs": [
        {
          "output_type": "stream",
          "text": "Dimension of dataset: wh.shape\n",
          "name": "stdout"
        },
        {
          "output_type": "execute_result",
          "execution_count": 236,
          "data": {
            "text/plain": "Country                           object\nHappiness.Rank                     int64\nHappiness.Score                  float64\nWhisker.high                     float64\nWhisker.low                      float64\nEconomy..GDP.per.Capita.         float64\nFamily                           float64\nHealth..Life.Expectancy.         float64\nFreedom                          float64\nGenerosity                       float64\nTrust..Government.Corruption.    float64\nDystopia.Residual                float64\ndtype: object"
          },
          "metadata": {}
        }
      ]
    },
    {
      "metadata": {
        "_cell_guid": "362e228d-49e4-4208-ae7f-124bc98e9d1f",
        "_uuid": "592270ad8b7c2baa5e37f512724ccd4dc5d7c568"
      },
      "cell_type": "markdown",
      "source": "**Визуализация данных**\n\n*Зависимости между переменными*\n\nДля начала, найдем зависимости между несколькими переменными. Вычислим корреляционную матрицу между переменными и отобразим их на тепловой карте."
    },
    {
      "metadata": {
        "_cell_guid": "85612f12-68e2-405f-a8e9-c805ec459b4a",
        "_uuid": "a490314ccb25814363174381f4beb051978a5ba8",
        "trusted": true
      },
      "cell_type": "code",
      "source": "wh1 = wh[['Happiness.Score','Economy..GDP.per.Capita.','Family','Health..Life.Expectancy.', 'Freedom', \n          'Generosity','Trust..Government.Corruption.','Dystopia.Residual']] #Subsetting the data\ncor = wh1.corr() #Calculate the correlation of the above variables\nsns.heatmap(cor, square = True) #Plot the correlation as heat map",
      "execution_count": 237,
      "outputs": [
        {
          "output_type": "execute_result",
          "execution_count": 237,
          "data": {
            "text/plain": "<matplotlib.axes._subplots.AxesSubplot at 0x7fe5cd981ba8>"
          },
          "metadata": {}
        },
        {
          "output_type": "display_data",
          "data": {
            "text/plain": "<matplotlib.figure.Figure at 0x7fe5ce2a4c88>",
            "image/png": "[encoded data removed]"
          },
          "metadata": {}
        }
      ]
    },
    {
      "metadata": {
        "_cell_guid": "69c30931-a877-4973-98be-5a6bab000020",
        "_uuid": "9c0c7ece201a1f6f91255cb74dc265dbb3a2f51f"
      },
      "cell_type": "markdown",
      "source": "Мы получили тепловую карту корреляции между переменными. Чем светлее цвет на тепловой карте, тем выше зависимость. Можем заметить, что показатели счастья имеют сильную корреляцию с ВВП на душу населения, семьей и ожидаемой продолжительностью жизни и имеет наименьшую корреляцию с показателями щедрости. "
    },
    {
      "metadata": {
        "_cell_guid": "47323653-e185-490c-9077-8b67cd388349",
        "_uuid": "9ef14c07418d1835cebc5050a68fa76bbda05809"
      },
      "cell_type": "markdown",
      "source": "*Визуализация показателей счастья с использованием карты хороплет*"
    },
    {
      "metadata": {
        "_cell_guid": "49d39c13-ab88-401a-b43d-e3c452411ea5",
        "_uuid": "8e5eba65abc5330a69f1dc7beeaa646aaef8cae1"
      },
      "cell_type": "markdown",
      "source": "Выполним визуализацию показателей счастья различных стран на карте мира. Наведение мыши на страну покажет нам имя страны и значение показателя счастья для данной страны. "
    },
    {
      "metadata": {
        "_cell_guid": "0098bb7f-14b4-4c21-91e9-8c0a8810e3e2",
        "_uuid": "b3eb6c4743dd963eee8552bed1a0c4cf029f43e9",
        "trusted": true
      },
      "cell_type": "code",
      "source": "#Ref: https://plot.ly/python/choropleth-maps/\ndata = dict(type = 'choropleth', \n           locations = wh['Country'],\n           locationmode = 'country names',\n           z = wh['Happiness.Score'], \n           text = wh['Country'],\n           colorbar = {'title':'Happiness'})\nlayout = dict(title = 'Happiness Index 2017', \n             geo = dict(showframe = False, \n                       projection = {'type': 'Mercator'}))\nchoromap3 = go.Figure(data = [data], layout=layout)\niplot(choromap3)",
      "execution_count": 238,
      "outputs": [
        {
          "output_type": "display_data",
          "data": {
            "application/vnd.plotly.v1+json": {
              "data": [
                {
                  "type": "choropleth",
                  "locations": [
                    "Norway",
                    "Denmark",
                    "Iceland",
                    "Switzerland",
                    "Finland",
                    "Netherlands",
                    "Canada",
                    "New Zealand",
                    "Sweden",
                    "Australia",
                    "Israel",
                    "Costa Rica",
                    "Austria",
                    "United States",
                    "Ireland",
                    "Germany",
                    "Belgium",
                    "Luxembourg",
                    "United Kingdom",
                    "Chile",
                    "United Arab Emirates",
                    "Brazil",
                    "Czech Republic",
                    "Argentina",
                    "Mexico",
                    "Singapore",
                    "Malta",
                    "Uruguay",
                    "Guatemala",
                    "Panama",
                    "France",
                    "Thailand",
                    "Taiwan Province of China",
                    "Spain",
                    "Qatar",
                    "Colombia",
                    "Saudi Arabia",
                    "Trinidad and Tobago",
                    "Kuwait",
                    "Slovakia",
                    "Bahrain",
                    "Malaysia",
                    "Nicaragua",
                    "Ecuador",
                    "El Salvador",
                    "Poland",
                    "Uzbekistan",
                    "Italy",
                    "Russia",
                    "Belize",
                    "Japan",
                    "Lithuania",
                    "Algeria",
                    "Latvia",
                    "South Korea",
                    "Moldova",
                    "Romania",
                    "Bolivia",
                    "Turkmenistan",
                    "Kazakhstan",
                    "North Cyprus",
                    "Slovenia",
                    "Peru",
                    "Mauritius",
                    "Cyprus",
                    "Estonia",
                    "Belarus",
                    "Libya",
                    "Turkey",
                    "Paraguay",
                    "Hong Kong S.A.R., China",
                    "Philippines",
                    "Serbia",
                    "Jordan",
                    "Hungary",
                    "Jamaica",
                    "Croatia",
                    "Kosovo",
                    "China",
                    "Pakistan",
                    "Indonesia",
                    "Venezuela",
                    "Montenegro",
                    "Morocco",
                    "Azerbaijan",
                    "Dominican Republic",
                    "Greece",
                    "Lebanon",
                    "Portugal",
                    "Bosnia and Herzegovina",
                    "Honduras",
                    "Macedonia",
                    "Somalia",
                    "Vietnam",
                    "Nigeria",
                    "Tajikistan",
                    "Bhutan",
                    "Kyrgyzstan",
                    "Nepal",
                    "Mongolia",
                    "South Africa",
                    "Tunisia",
                    "Palestinian Territories",
                    "Egypt",
                    "Bulgaria",
                    "Sierra Leone",
                    "Cameroon",
                    "Iran",
                    "Albania",
                    "Bangladesh",
                    "Namibia",
                    "Kenya",
                    "Mozambique",
                    "Myanmar",
                    "Senegal",
                    "Zambia",
                    "Iraq",
                    "Gabon",
                    "Ethiopia",
                    "Sri Lanka",
                    "Armenia",
                    "India",
                    "Mauritania",
                    "Congo (Brazzaville)",
                    "Georgia",
                    "Congo (Kinshasa)",
                    "Mali",
                    "Ivory Coast",
                    "Cambodia",
                    "Sudan",
                    "Ghana",
                    "Ukraine",
                    "Uganda",
                    "Burkina Faso",
                    "Niger",
                    "Malawi",
                    "Chad",
                    "Zimbabwe",
                    "Lesotho",
                    "Angola",
                    "Afghanistan",
                    "Botswana",
                    "Benin",
                    "Madagascar",
                    "Haiti",
                    "Yemen",
                    "South Sudan",
                    "Liberia",
                    "Guinea",
                    "Togo",
                    "Rwanda",
                    "Syria",
                    "Tanzania",
                    "Burundi",
                    "Central African Republic"
                  ],
                  "locationmode": "country names",
                  "z": [
                    7.537000179290769,
                    7.52199983596802,
                    7.50400018692017,
                    7.49399995803833,
                    7.468999862670901,
                    7.3769998550415,
                    7.31599998474121,
                    7.31400012969971,
                    7.28399991989136,
                    7.28399991989136,
                    7.212999820709231,
                    7.0789999961853,
                    7.00600004196167,
                    6.993000030517581,
                    6.9770002365112305,
                    6.9510002136230495,
                    6.89099979400635,
                    6.86299991607666,
                    6.71400022506714,
                    6.65199995040894,
                    6.6479997634887695,
                    6.6350002288818395,
                    6.60900020599365,
                    6.59899997711182,
                    6.57800006866455,
                    6.57200002670288,
                    6.52699995040894,
                    6.4539999961853,
                    6.4539999961853,
                    6.4520001411438,
                    6.44199991226196,
                    6.4239997863769505,
                    6.42199993133545,
                    6.40299987792969,
                    6.375,
                    6.35699987411499,
                    6.343999862670901,
                    6.1680002212524405,
                    6.10500001907349,
                    6.09800004959106,
                    6.08699989318848,
                    6.08400011062622,
                    6.07100009918213,
                    6.00799989700317,
                    6.002999782562259,
                    5.97300004959106,
                    5.97100019454956,
                    5.96400022506714,
                    5.962999820709231,
                    5.955999851226809,
                    5.92000007629395,
                    5.90199995040894,
                    5.872000217437741,
                    5.849999904632571,
                    5.837999820709231,
                    5.837999820709231,
                    5.824999809265139,
                    5.82299995422363,
                    5.82200002670288,
                    5.8189997673034695,
                    5.80999994277954,
                    5.75799989700317,
                    5.71500015258789,
                    5.62900018692017,
                    5.62099981307983,
                    5.61100006103516,
                    5.5689997673034695,
                    5.525000095367429,
                    5.5,
                    5.493000030517581,
                    5.47200012207031,
                    5.42999982833862,
                    5.39499998092651,
                    5.33599996566772,
                    5.32399988174438,
                    5.31099987030029,
                    5.2930002212524405,
                    5.27899980545044,
                    5.2729997634887695,
                    5.26900005340576,
                    5.26200008392334,
                    5.25,
                    5.23699998855591,
                    5.2350001335144,
                    5.234000205993651,
                    5.230000019073491,
                    5.2270002365112305,
                    5.22499990463257,
                    5.19500017166138,
                    5.18200016021729,
                    5.1810002326965305,
                    5.175000190734861,
                    5.151000022888179,
                    5.07399988174438,
                    5.07399988174438,
                    5.04099988937378,
                    5.01100015640259,
                    5.0040001869201705,
                    4.961999893188481,
                    4.95499992370605,
                    4.8289999961853,
                    4.80499982833862,
                    4.77500009536743,
                    4.7350001335144,
                    4.71400022506714,
                    4.70900011062622,
                    4.69500017166138,
                    4.69199991226196,
                    4.64400005340576,
                    4.60799980163574,
                    4.57399988174438,
                    4.55299997329712,
                    4.550000190734861,
                    4.54500007629395,
                    4.53499984741211,
                    4.513999938964839,
                    4.49700021743774,
                    4.46500015258789,
                    4.46000003814697,
                    4.44000005722046,
                    4.37599992752075,
                    4.31500005722046,
                    4.29199981689453,
                    4.29099988937378,
                    4.28599977493286,
                    4.2800002098083505,
                    4.19000005722046,
                    4.17999982833862,
                    4.1680002212524405,
                    4.138999938964839,
                    4.11999988555908,
                    4.09600019454956,
                    4.08099985122681,
                    4.03200006484985,
                    4.02799987792969,
                    3.97000002861023,
                    3.9360001087188703,
                    3.875,
                    3.80800008773804,
                    3.79500007629395,
                    3.7939999103546103,
                    3.7660000324249303,
                    3.65700006484985,
                    3.64400005340576,
                    3.6029999256133998,
                    3.59299993515015,
                    3.5910000801086404,
                    3.5329999923706095,
                    3.50699996948242,
                    3.4949998855590803,
                    3.47099995613098,
                    3.46199989318848,
                    3.34899997711182,
                    2.90499997138977,
                    2.69300007820129
                  ],
                  "text": [
                    "Norway",
                    "Denmark",
                    "Iceland",
                    "Switzerland",
                    "Finland",
                    "Netherlands",
                    "Canada",
                    "New Zealand",
                    "Sweden",
                    "Australia",
                    "Israel",
                    "Costa Rica",
                    "Austria",
                    "United States",
                    "Ireland",
                    "Germany",
                    "Belgium",
                    "Luxembourg",
                    "United Kingdom",
                    "Chile",
                    "United Arab Emirates",
                    "Brazil",
                    "Czech Republic",
                    "Argentina",
                    "Mexico",
                    "Singapore",
                    "Malta",
                    "Uruguay",
                    "Guatemala",
                    "Panama",
                    "France",
                    "Thailand",
                    "Taiwan Province of China",
                    "Spain",
                    "Qatar",
                    "Colombia",
                    "Saudi Arabia",
                    "Trinidad and Tobago",
                    "Kuwait",
                    "Slovakia",
                    "Bahrain",
                    "Malaysia",
                    "Nicaragua",
                    "Ecuador",
                    "El Salvador",
                    "Poland",
                    "Uzbekistan",
                    "Italy",
                    "Russia",
                    "Belize",
                    "Japan",
                    "Lithuania",
                    "Algeria",
                    "Latvia",
                    "South Korea",
                    "Moldova",
                    "Romania",
                    "Bolivia",
                    "Turkmenistan",
                    "Kazakhstan",
                    "North Cyprus",
                    "Slovenia",
                    "Peru",
                    "Mauritius",
                    "Cyprus",
                    "Estonia",
                    "Belarus",
                    "Libya",
                    "Turkey",
                    "Paraguay",
                    "Hong Kong S.A.R., China",
                    "Philippines",
                    "Serbia",
                    "Jordan",
                    "Hungary",
                    "Jamaica",
                    "Croatia",
                    "Kosovo",
                    "China",
                    "Pakistan",
                    "Indonesia",
                    "Venezuela",
                    "Montenegro",
                    "Morocco",
                    "Azerbaijan",
                    "Dominican Republic",
                    "Greece",
                    "Lebanon",
                    "Portugal",
                    "Bosnia and Herzegovina",
                    "Honduras",
                    "Macedonia",
                    "Somalia",
                    "Vietnam",
                    "Nigeria",
                    "Tajikistan",
                    "Bhutan",
                    "Kyrgyzstan",
                    "Nepal",
                    "Mongolia",
                    "South Africa",
                    "Tunisia",
                    "Palestinian Territories",
                    "Egypt",
                    "Bulgaria",
                    "Sierra Leone",
                    "Cameroon",
                    "Iran",
                    "Albania",
                    "Bangladesh",
                    "Namibia",
                    "Kenya",
                    "Mozambique",
                    "Myanmar",
                    "Senegal",
                    "Zambia",
                    "Iraq",
                    "Gabon",
                    "Ethiopia",
                    "Sri Lanka",
                    "Armenia",
                    "India",
                    "Mauritania",
                    "Congo (Brazzaville)",
                    "Georgia",
                    "Congo (Kinshasa)",
                    "Mali",
                    "Ivory Coast",
                    "Cambodia",
                    "Sudan",
                    "Ghana",
                    "Ukraine",
                    "Uganda",
                    "Burkina Faso",
                    "Niger",
                    "Malawi",
                    "Chad",
                    "Zimbabwe",
                    "Lesotho",
                    "Angola",
                    "Afghanistan",
                    "Botswana",
                    "Benin",
                    "Madagascar",
                    "Haiti",
                    "Yemen",
                    "South Sudan",
                    "Liberia",
                    "Guinea",
                    "Togo",
                    "Rwanda",
                    "Syria",
                    "Tanzania",
                    "Burundi",
                    "Central African Republic"
                  ],
                  "colorbar": {
                    "title": "Happiness"
                  }
                }
              ],
              "layout": {
                "title": "Happiness Index 2017",
                "geo": {
                  "showframe": false,
                  "projection": {
                    "type": "Mercator"
                  }
                }
              }
            },
            "text/html": "<div id=\"e00ecb3d-50af-4d8f-aa16-3bc9b3a8bbf7\" style=\"height: 525px; width: 100%;\" class=\"plotly-graph-div\"></div><script type=\"text/javascript\">require([\"plotly\"], function(Plotly) { window.PLOTLYENV=window.PLOTLYENV || {};window.PLOTLYENV.BASE_URL=\"https://plot.ly\";Plotly.newPlot(\"e00ecb3d-50af-4d8f-aa16-3bc9b3a8bbf7\", [{\"type\": \"choropleth\", \"locations\": [\"Norway\", \"Denmark\", \"Iceland\", \"Switzerland\", \"Finland\", \"Netherlands\", \"Canada\", \"New Zealand\", \"Sweden\", \"Australia\", \"Israel\", \"Costa Rica\", \"Austria\", \"United States\", \"Ireland\", \"Germany\", \"Belgium\", \"Luxembourg\", \"United Kingdom\", \"Chile\", \"United Arab Emirates\", \"Brazil\", \"Czech Republic\", \"Argentina\", \"Mexico\", \"Singapore\", \"Malta\", \"Uruguay\", \"Guatemala\", \"Panama\", \"France\", \"Thailand\", \"Taiwan Province of China\", \"Spain\", \"Qatar\", \"Colombia\", \"Saudi Arabia\", \"Trinidad and Tobago\", \"Kuwait\", \"Slovakia\", \"Bahrain\", \"Malaysia\", \"Nicaragua\", \"Ecuador\", \"El Salvador\", \"Poland\", \"Uzbekistan\", \"Italy\", \"Russia\", \"Belize\", \"Japan\", \"Lithuania\", \"Algeria\", \"Latvia\", \"South Korea\", \"Moldova\", \"Romania\", \"Bolivia\", \"Turkmenistan\", \"Kazakhstan\", \"North Cyprus\", \"Slovenia\", \"Peru\", \"Mauritius\", \"Cyprus\", \"Estonia\", \"Belarus\", \"Libya\", \"Turkey\", \"Paraguay\", \"Hong Kong S.A.R., China\", \"Philippines\", \"Serbia\", \"Jordan\", \"Hungary\", \"Jamaica\", \"Croatia\", \"Kosovo\", \"China\", \"Pakistan\", \"Indonesia\", \"Venezuela\", \"Montenegro\", \"Morocco\", \"Azerbaijan\", \"Dominican Republic\", \"Greece\", \"Lebanon\", \"Portugal\", \"Bosnia and Herzegovina\", \"Honduras\", \"Macedonia\", \"Somalia\", \"Vietnam\", \"Nigeria\", \"Tajikistan\", \"Bhutan\", \"Kyrgyzstan\", \"Nepal\", \"Mongolia\", \"South Africa\", \"Tunisia\", \"Palestinian Territories\", \"Egypt\", \"Bulgaria\", \"Sierra Leone\", \"Cameroon\", \"Iran\", \"Albania\", \"Bangladesh\", \"Namibia\", \"Kenya\", \"Mozambique\", \"Myanmar\", \"Senegal\", \"Zambia\", \"Iraq\", \"Gabon\", \"Ethiopia\", \"Sri Lanka\", \"Armenia\", \"India\", \"Mauritania\", \"Congo (Brazzaville)\", \"Georgia\", \"Congo (Kinshasa)\", \"Mali\", \"Ivory Coast\", \"Cambodia\", \"Sudan\", \"Ghana\", \"Ukraine\", \"Uganda\", \"Burkina Faso\", \"Niger\", \"Malawi\", \"Chad\", \"Zimbabwe\", \"Lesotho\", \"Angola\", \"Afghanistan\", \"Botswana\", \"Benin\", \"Madagascar\", \"Haiti\", \"Yemen\", \"South Sudan\", \"Liberia\", \"Guinea\", \"Togo\", \"Rwanda\", \"Syria\", \"Tanzania\", \"Burundi\", \"Central African Republic\"], \"locationmode\": \"country names\", \"z\": [7.537000179290769, 7.52199983596802, 7.50400018692017, 7.49399995803833, 7.468999862670901, 7.3769998550415, 7.31599998474121, 7.31400012969971, 7.28399991989136, 7.28399991989136, 7.212999820709231, 7.0789999961853, 7.00600004196167, 6.993000030517581, 6.9770002365112305, 6.9510002136230495, 6.89099979400635, 6.86299991607666, 6.71400022506714, 6.65199995040894, 6.6479997634887695, 6.6350002288818395, 6.60900020599365, 6.59899997711182, 6.57800006866455, 6.57200002670288, 6.52699995040894, 6.4539999961853, 6.4539999961853, 6.4520001411438, 6.44199991226196, 6.4239997863769505, 6.42199993133545, 6.40299987792969, 6.375, 6.35699987411499, 6.343999862670901, 6.1680002212524405, 6.10500001907349, 6.09800004959106, 6.08699989318848, 6.08400011062622, 6.07100009918213, 6.00799989700317, 6.002999782562259, 5.97300004959106, 5.97100019454956, 5.96400022506714, 5.962999820709231, 5.955999851226809, 5.92000007629395, 5.90199995040894, 5.872000217437741, 5.849999904632571, 5.837999820709231, 5.837999820709231, 5.824999809265139, 5.82299995422363, 5.82200002670288, 5.8189997673034695, 5.80999994277954, 5.75799989700317, 5.71500015258789, 5.62900018692017, 5.62099981307983, 5.61100006103516, 5.5689997673034695, 5.525000095367429, 5.5, 5.493000030517581, 5.47200012207031, 5.42999982833862, 5.39499998092651, 5.33599996566772, 5.32399988174438, 5.31099987030029, 5.2930002212524405, 5.27899980545044, 5.2729997634887695, 5.26900005340576, 5.26200008392334, 5.25, 5.23699998855591, 5.2350001335144, 5.234000205993651, 5.230000019073491, 5.2270002365112305, 5.22499990463257, 5.19500017166138, 5.18200016021729, 5.1810002326965305, 5.175000190734861, 5.151000022888179, 5.07399988174438, 5.07399988174438, 5.04099988937378, 5.01100015640259, 5.0040001869201705, 4.961999893188481, 4.95499992370605, 4.8289999961853, 4.80499982833862, 4.77500009536743, 4.7350001335144, 4.71400022506714, 4.70900011062622, 4.69500017166138, 4.69199991226196, 4.64400005340576, 4.60799980163574, 4.57399988174438, 4.55299997329712, 4.550000190734861, 4.54500007629395, 4.53499984741211, 4.513999938964839, 4.49700021743774, 4.46500015258789, 4.46000003814697, 4.44000005722046, 4.37599992752075, 4.31500005722046, 4.29199981689453, 4.29099988937378, 4.28599977493286, 4.2800002098083505, 4.19000005722046, 4.17999982833862, 4.1680002212524405, 4.138999938964839, 4.11999988555908, 4.09600019454956, 4.08099985122681, 4.03200006484985, 4.02799987792969, 3.97000002861023, 3.9360001087188703, 3.875, 3.80800008773804, 3.79500007629395, 3.7939999103546103, 3.7660000324249303, 3.65700006484985, 3.64400005340576, 3.6029999256133998, 3.59299993515015, 3.5910000801086404, 3.5329999923706095, 3.50699996948242, 3.4949998855590803, 3.47099995613098, 3.46199989318848, 3.34899997711182, 2.90499997138977, 2.69300007820129], \"text\": [\"Norway\", \"Denmark\", \"Iceland\", \"Switzerland\", \"Finland\", \"Netherlands\", \"Canada\", \"New Zealand\", \"Sweden\", \"Australia\", \"Israel\", \"Costa Rica\", \"Austria\", \"United States\", \"Ireland\", \"Germany\", \"Belgium\", \"Luxembourg\", \"United Kingdom\", \"Chile\", \"United Arab Emirates\", \"Brazil\", \"Czech Republic\", \"Argentina\", \"Mexico\", \"Singapore\", \"Malta\", \"Uruguay\", \"Guatemala\", \"Panama\", \"France\", \"Thailand\", \"Taiwan Province of China\", \"Spain\", \"Qatar\", \"Colombia\", \"Saudi Arabia\", \"Trinidad and Tobago\", \"Kuwait\", \"Slovakia\", \"Bahrain\", \"Malaysia\", \"Nicaragua\", \"Ecuador\", \"El Salvador\", \"Poland\", \"Uzbekistan\", \"Italy\", \"Russia\", \"Belize\", \"Japan\", \"Lithuania\", \"Algeria\", \"Latvia\", \"South Korea\", \"Moldova\", \"Romania\", \"Bolivia\", \"Turkmenistan\", \"Kazakhstan\", \"North Cyprus\", \"Slovenia\", \"Peru\", \"Mauritius\", \"Cyprus\", \"Estonia\", \"Belarus\", \"Libya\", \"Turkey\", \"Paraguay\", \"Hong Kong S.A.R., China\", \"Philippines\", \"Serbia\", \"Jordan\", \"Hungary\", \"Jamaica\", \"Croatia\", \"Kosovo\", \"China\", \"Pakistan\", \"Indonesia\", \"Venezuela\", \"Montenegro\", \"Morocco\", \"Azerbaijan\", \"Dominican Republic\", \"Greece\", \"Lebanon\", \"Portugal\", \"Bosnia and Herzegovina\", \"Honduras\", \"Macedonia\", \"Somalia\", \"Vietnam\", \"Nigeria\", \"Tajikistan\", \"Bhutan\", \"Kyrgyzstan\", \"Nepal\", \"Mongolia\", \"South Africa\", \"Tunisia\", \"Palestinian Territories\", \"Egypt\", \"Bulgaria\", \"Sierra Leone\", \"Cameroon\", \"Iran\", \"Albania\", \"Bangladesh\", \"Namibia\", \"Kenya\", \"Mozambique\", \"Myanmar\", \"Senegal\", \"Zambia\", \"Iraq\", \"Gabon\", \"Ethiopia\", \"Sri Lanka\", \"Armenia\", \"India\", \"Mauritania\", \"Congo (Brazzaville)\", \"Georgia\", \"Congo (Kinshasa)\", \"Mali\", \"Ivory Coast\", \"Cambodia\", \"Sudan\", \"Ghana\", \"Ukraine\", \"Uganda\", \"Burkina Faso\", \"Niger\", \"Malawi\", \"Chad\", \"Zimbabwe\", \"Lesotho\", \"Angola\", \"Afghanistan\", \"Botswana\", \"Benin\", \"Madagascar\", \"Haiti\", \"Yemen\", \"South Sudan\", \"Liberia\", \"Guinea\", \"Togo\", \"Rwanda\", \"Syria\", \"Tanzania\", \"Burundi\", \"Central African Republic\"], \"colorbar\": {\"title\": \"Happiness\"}}], {\"title\": \"Happiness Index 2017\", \"geo\": {\"showframe\": false, \"projection\": {\"type\": \"Mercator\"}}}, {\"showLink\": true, \"linkText\": \"Export to plot.ly\"})});</script>",
            "text/vnd.plotly.v1+html": "<div id=\"e00ecb3d-50af-4d8f-aa16-3bc9b3a8bbf7\" style=\"height: 525px; width: 100%;\" class=\"plotly-graph-div\"></div><script type=\"text/javascript\">require([\"plotly\"], function(Plotly) { window.PLOTLYENV=window.PLOTLYENV || {};window.PLOTLYENV.BASE_URL=\"https://plot.ly\";Plotly.newPlot(\"e00ecb3d-50af-4d8f-aa16-3bc9b3a8bbf7\", [{\"type\": \"choropleth\", \"locations\": [\"Norway\", \"Denmark\", \"Iceland\", \"Switzerland\", \"Finland\", \"Netherlands\", \"Canada\", \"New Zealand\", \"Sweden\", \"Australia\", \"Israel\", \"Costa Rica\", \"Austria\", \"United States\", \"Ireland\", \"Germany\", \"Belgium\", \"Luxembourg\", \"United Kingdom\", \"Chile\", \"United Arab Emirates\", \"Brazil\", \"Czech Republic\", \"Argentina\", \"Mexico\", \"Singapore\", \"Malta\", \"Uruguay\", \"Guatemala\", \"Panama\", \"France\", \"Thailand\", \"Taiwan Province of China\", \"Spain\", \"Qatar\", \"Colombia\", \"Saudi Arabia\", \"Trinidad and Tobago\", \"Kuwait\", \"Slovakia\", \"Bahrain\", \"Malaysia\", \"Nicaragua\", \"Ecuador\", \"El Salvador\", \"Poland\", \"Uzbekistan\", \"Italy\", \"Russia\", \"Belize\", \"Japan\", \"Lithuania\", \"Algeria\", \"Latvia\", \"South Korea\", \"Moldova\", \"Romania\", \"Bolivia\", \"Turkmenistan\", \"Kazakhstan\", \"North Cyprus\", \"Slovenia\", \"Peru\", \"Mauritius\", \"Cyprus\", \"Estonia\", \"Belarus\", \"Libya\", \"Turkey\", \"Paraguay\", \"Hong Kong S.A.R., China\", \"Philippines\", \"Serbia\", \"Jordan\", \"Hungary\", \"Jamaica\", \"Croatia\", \"Kosovo\", \"China\", \"Pakistan\", \"Indonesia\", \"Venezuela\", \"Montenegro\", \"Morocco\", \"Azerbaijan\", \"Dominican Republic\", \"Greece\", \"Lebanon\", \"Portugal\", \"Bosnia and Herzegovina\", \"Honduras\", \"Macedonia\", \"Somalia\", \"Vietnam\", \"Nigeria\", \"Tajikistan\", \"Bhutan\", \"Kyrgyzstan\", \"Nepal\", \"Mongolia\", \"South Africa\", \"Tunisia\", \"Palestinian Territories\", \"Egypt\", \"Bulgaria\", \"Sierra Leone\", \"Cameroon\", \"Iran\", \"Albania\", \"Bangladesh\", \"Namibia\", \"Kenya\", \"Mozambique\", \"Myanmar\", \"Senegal\", \"Zambia\", \"Iraq\", \"Gabon\", \"Ethiopia\", \"Sri Lanka\", \"Armenia\", \"India\", \"Mauritania\", \"Congo (Brazzaville)\", \"Georgia\", \"Congo (Kinshasa)\", \"Mali\", \"Ivory Coast\", \"Cambodia\", \"Sudan\", \"Ghana\", \"Ukraine\", \"Uganda\", \"Burkina Faso\", \"Niger\", \"Malawi\", \"Chad\", \"Zimbabwe\", \"Lesotho\", \"Angola\", \"Afghanistan\", \"Botswana\", \"Benin\", \"Madagascar\", \"Haiti\", \"Yemen\", \"South Sudan\", \"Liberia\", \"Guinea\", \"Togo\", \"Rwanda\", \"Syria\", \"Tanzania\", \"Burundi\", \"Central African Republic\"], \"locationmode\": \"country names\", \"z\": [7.537000179290769, 7.52199983596802, 7.50400018692017, 7.49399995803833, 7.468999862670901, 7.3769998550415, 7.31599998474121, 7.31400012969971, 7.28399991989136, 7.28399991989136, 7.212999820709231, 7.0789999961853, 7.00600004196167, 6.993000030517581, 6.9770002365112305, 6.9510002136230495, 6.89099979400635, 6.86299991607666, 6.71400022506714, 6.65199995040894, 6.6479997634887695, 6.6350002288818395, 6.60900020599365, 6.59899997711182, 6.57800006866455, 6.57200002670288, 6.52699995040894, 6.4539999961853, 6.4539999961853, 6.4520001411438, 6.44199991226196, 6.4239997863769505, 6.42199993133545, 6.40299987792969, 6.375, 6.35699987411499, 6.343999862670901, 6.1680002212524405, 6.10500001907349, 6.09800004959106, 6.08699989318848, 6.08400011062622, 6.07100009918213, 6.00799989700317, 6.002999782562259, 5.97300004959106, 5.97100019454956, 5.96400022506714, 5.962999820709231, 5.955999851226809, 5.92000007629395, 5.90199995040894, 5.872000217437741, 5.849999904632571, 5.837999820709231, 5.837999820709231, 5.824999809265139, 5.82299995422363, 5.82200002670288, 5.8189997673034695, 5.80999994277954, 5.75799989700317, 5.71500015258789, 5.62900018692017, 5.62099981307983, 5.61100006103516, 5.5689997673034695, 5.525000095367429, 5.5, 5.493000030517581, 5.47200012207031, 5.42999982833862, 5.39499998092651, 5.33599996566772, 5.32399988174438, 5.31099987030029, 5.2930002212524405, 5.27899980545044, 5.2729997634887695, 5.26900005340576, 5.26200008392334, 5.25, 5.23699998855591, 5.2350001335144, 5.234000205993651, 5.230000019073491, 5.2270002365112305, 5.22499990463257, 5.19500017166138, 5.18200016021729, 5.1810002326965305, 5.175000190734861, 5.151000022888179, 5.07399988174438, 5.07399988174438, 5.04099988937378, 5.01100015640259, 5.0040001869201705, 4.961999893188481, 4.95499992370605, 4.8289999961853, 4.80499982833862, 4.77500009536743, 4.7350001335144, 4.71400022506714, 4.70900011062622, 4.69500017166138, 4.69199991226196, 4.64400005340576, 4.60799980163574, 4.57399988174438, 4.55299997329712, 4.550000190734861, 4.54500007629395, 4.53499984741211, 4.513999938964839, 4.49700021743774, 4.46500015258789, 4.46000003814697, 4.44000005722046, 4.37599992752075, 4.31500005722046, 4.29199981689453, 4.29099988937378, 4.28599977493286, 4.2800002098083505, 4.19000005722046, 4.17999982833862, 4.1680002212524405, 4.138999938964839, 4.11999988555908, 4.09600019454956, 4.08099985122681, 4.03200006484985, 4.02799987792969, 3.97000002861023, 3.9360001087188703, 3.875, 3.80800008773804, 3.79500007629395, 3.7939999103546103, 3.7660000324249303, 3.65700006484985, 3.64400005340576, 3.6029999256133998, 3.59299993515015, 3.5910000801086404, 3.5329999923706095, 3.50699996948242, 3.4949998855590803, 3.47099995613098, 3.46199989318848, 3.34899997711182, 2.90499997138977, 2.69300007820129], \"text\": [\"Norway\", \"Denmark\", \"Iceland\", \"Switzerland\", \"Finland\", \"Netherlands\", \"Canada\", \"New Zealand\", \"Sweden\", \"Australia\", \"Israel\", \"Costa Rica\", \"Austria\", \"United States\", \"Ireland\", \"Germany\", \"Belgium\", \"Luxembourg\", \"United Kingdom\", \"Chile\", \"United Arab Emirates\", \"Brazil\", \"Czech Republic\", \"Argentina\", \"Mexico\", \"Singapore\", \"Malta\", \"Uruguay\", \"Guatemala\", \"Panama\", \"France\", \"Thailand\", \"Taiwan Province of China\", \"Spain\", \"Qatar\", \"Colombia\", \"Saudi Arabia\", \"Trinidad and Tobago\", \"Kuwait\", \"Slovakia\", \"Bahrain\", \"Malaysia\", \"Nicaragua\", \"Ecuador\", \"El Salvador\", \"Poland\", \"Uzbekistan\", \"Italy\", \"Russia\", \"Belize\", \"Japan\", \"Lithuania\", \"Algeria\", \"Latvia\", \"South Korea\", \"Moldova\", \"Romania\", \"Bolivia\", \"Turkmenistan\", \"Kazakhstan\", \"North Cyprus\", \"Slovenia\", \"Peru\", \"Mauritius\", \"Cyprus\", \"Estonia\", \"Belarus\", \"Libya\", \"Turkey\", \"Paraguay\", \"Hong Kong S.A.R., China\", \"Philippines\", \"Serbia\", \"Jordan\", \"Hungary\", \"Jamaica\", \"Croatia\", \"Kosovo\", \"China\", \"Pakistan\", \"Indonesia\", \"Venezuela\", \"Montenegro\", \"Morocco\", \"Azerbaijan\", \"Dominican Republic\", \"Greece\", \"Lebanon\", \"Portugal\", \"Bosnia and Herzegovina\", \"Honduras\", \"Macedonia\", \"Somalia\", \"Vietnam\", \"Nigeria\", \"Tajikistan\", \"Bhutan\", \"Kyrgyzstan\", \"Nepal\", \"Mongolia\", \"South Africa\", \"Tunisia\", \"Palestinian Territories\", \"Egypt\", \"Bulgaria\", \"Sierra Leone\", \"Cameroon\", \"Iran\", \"Albania\", \"Bangladesh\", \"Namibia\", \"Kenya\", \"Mozambique\", \"Myanmar\", \"Senegal\", \"Zambia\", \"Iraq\", \"Gabon\", \"Ethiopia\", \"Sri Lanka\", \"Armenia\", \"India\", \"Mauritania\", \"Congo (Brazzaville)\", \"Georgia\", \"Congo (Kinshasa)\", \"Mali\", \"Ivory Coast\", \"Cambodia\", \"Sudan\", \"Ghana\", \"Ukraine\", \"Uganda\", \"Burkina Faso\", \"Niger\", \"Malawi\", \"Chad\", \"Zimbabwe\", \"Lesotho\", \"Angola\", \"Afghanistan\", \"Botswana\", \"Benin\", \"Madagascar\", \"Haiti\", \"Yemen\", \"South Sudan\", \"Liberia\", \"Guinea\", \"Togo\", \"Rwanda\", \"Syria\", \"Tanzania\", \"Burundi\", \"Central African Republic\"], \"colorbar\": {\"title\": \"Happiness\"}}], {\"title\": \"Happiness Index 2017\", \"geo\": {\"showframe\": false, \"projection\": {\"type\": \"Mercator\"}}}, {\"showLink\": true, \"linkText\": \"Export to plot.ly\"})});</script>"
          },
          "metadata": {}
        }
      ]
    },
    {
      "metadata": {
        "_cell_guid": "9d8ad01f-3e49-4d39-93f9-e97eebb57d17",
        "_uuid": "5bd844007c5fe76b129df9330e20d658020a0885"
      },
      "cell_type": "markdown",
      "source": "**Кластеризация стран**\n\nМы рассматриваем восемь параметров, а именно: оценку счастья, ВВП на душу населения, семью, ожидаемую продолжительность жизни, свободу, щедрость, коррупцию и дистопию для кластеризации стран. Поскольку кластеризация чувствительна к диапазону данных, желательно масштабировать данные перед продолжением."
    },
    {
      "metadata": {
        "_cell_guid": "3652decf-0431-4ad1-87b1-3f829e91625d",
        "_uuid": "6030341a66251b5400fddf291deaf6716756c967",
        "trusted": true
      },
      "cell_type": "code",
      "source": "#Scaling of data\nwh2 = wh[['Economy..GDP.per.Capita.','Trust..Government.Corruption.']]\nss = StandardScaler()\nss.fit_transform(wh2)",
      "execution_count": 239,
      "outputs": [
        {
          "output_type": "execute_result",
          "execution_count": 239,
          "data": {
            "text/plain": "array([[ 1.50618765,  1.90308437],\n       [ 1.18651768,  2.73999784],\n       [ 1.1823454 ,  0.30006609],\n       [ 1.38344191,  2.40680857],\n       [ 1.09398544,  2.56079976],\n       [ 1.23792427,  1.57444226],\n       [ 1.17893937,  1.62092002],\n       [ 1.00370674,  2.56282438],\n       [ 1.21513788,  2.57843667],\n       [ 1.19136213,  1.75722637],\n       [ 0.93141005, -0.37380164],\n       [ 0.29799288, -0.22711087],\n       [ 1.19775726,  0.96652596],\n       [ 1.3388096 ,  0.12353995],\n       [ 1.31365029,  1.72963811],\n       [ 1.19972687,  1.51592295],\n       [ 1.14216675,  1.26537256],\n       [ 1.80535433,  1.93141289],\n       [ 1.08936495,  1.40437027],\n       [ 0.63911598, -0.40295446],\n       [ 1.5297437 ,  1.98722085],\n       [ 0.29238275, -0.11869343],\n       [ 0.87728922, -0.85113462],\n       [ 0.47821036, -0.62547117],\n       [ 0.40165073,  0.09526981],\n       [ 1.6869423 ,  3.36702216],\n       [ 0.85487202,  0.29552172],\n       [ 0.55513378,  0.54219374],\n       [-0.26873475, -0.45293568],\n       [ 0.5937305 , -0.51450898],\n       [ 1.06382935,  0.48733015],\n       [ 0.34129534, -0.90304502],\n       [ 1.07027393, -0.58511529],\n       [ 0.9529044 , -0.51519807],\n       [ 2.11248814,  3.12022456],\n       [ 0.20481006, -0.75446426],\n       [ 1.30153135,  1.4833599 ],\n       [ 0.89796843, -1.12654685],\n       [ 1.54550088,  0.90829355],\n       [ 0.81222808, -0.97609079],\n       [ 1.20089244,  1.32161373],\n       [ 0.73074158, -0.56763345],\n       [-0.58988904,  0.07468273],\n       [ 0.03839038,  0.1679075 ],\n       [-0.17865472, -0.32703603],\n       [ 0.73210638, -0.62973518],\n       [-0.47272642,  1.21785646],\n       [ 0.97834053, -0.93842021],\n       [ 0.70824139, -0.88972106],\n       [-0.18296811, -0.26190258],\n       [ 1.03043121,  0.40106244],\n       [ 0.78645231, -1.09791994],\n       [ 0.25545495,  0.22673842],\n       [ 0.65810355, -0.48629678],\n       [ 0.99410424, -0.59050911],\n       [-0.60998419, -1.11543024],\n       [ 0.55542994, -1.17171431],\n       [-0.35991826, -0.61818979],\n       [ 0.34822849,  1.34360252],\n       [ 0.71486503, -0.03786888],\n       [ 0.86353007,  0.31809386],\n       [ 0.84992753, -0.76965947],\n       [ 0.12041746, -0.75071082],\n       [ 0.48798566, -0.79874623],\n       [ 0.88505142, -0.80805797],\n       [ 0.80146542,  0.59338233],\n       [ 0.4096943 ,  0.32757229],\n       [ 0.27915026, -0.30108917],\n       [ 0.50915429, -0.23140378],\n       [-0.12440812, -0.31632912],\n       [ 1.35172121,  1.68567966],\n       [-0.3028349 , -0.234756  ],\n       [ 0.20169933, -0.811356  ],\n       [ 0.01500643, -0.03273343],\n       [ 0.71833558, -0.8534635 ],\n       [-0.14099719, -0.66960432],\n       [ 0.56704638, -0.78965183],\n       [-0.07923509, -0.64785568],\n       [ 0.22994748, -0.99007033],\n       [-0.61472178,  0.01211704],\n       [ 0.02579765, -1.06385875],\n       [ 0.34263627, -0.57858343],\n       [ 0.32522667, -0.34486616],\n       [-0.25416119, -0.34892224],\n       [ 0.40264718,  0.57106547],\n       [ 0.22567516, -0.09054351],\n       [ 0.72662188, -0.7878097 ],\n       [ 0.21521746, -0.84480985],\n       [ 0.787866  , -1.0584082 ],\n       [-0.00550454, -1.21501648],\n       [-0.60592517, -0.49120415],\n       [ 0.19039921, -0.62016283],\n       [-2.29375073,  1.5719603 ],\n       [-0.46770419, -0.35020462],\n       [-0.47912751, -0.95723483],\n       [-1.09672925,  0.22951183],\n       [-0.23675244,  0.49599435],\n       [-0.92624571, -0.82580947],\n       [-1.20376286, -0.49485458],\n       [ 0.10136935, -0.89031901],\n       [ 0.16684544, -0.4994538 ],\n       [ 0.05375733, -0.35918586],\n       [-0.64007577, -0.3339278 ],\n       [ 0.01188176, -0.08623972],\n       [ 0.42138038, -1.10595403],\n       [-1.46935768, -0.51341109],\n       [-1.00233582, -0.70869508],\n       [ 0.41044662, -0.73381601],\n       [ 0.02735729, -0.82161498],\n       [-0.94898378,  0.00589782],\n       [-0.04836022, -0.29579212],\n       [-1.01145742, -0.57710121],\n       [-1.78911135,  0.55575817],\n       [-1.47248185,  0.64832326],\n       [-1.20498158, -0.07559075],\n       [-0.83043376, -0.44316315],\n       [ 0.2813137 , -0.15695381],\n       [ 0.50900138, -0.46454593],\n       [-1.53894466,  0.41778939],\n       [ 0.05991883, -0.48815957],\n       [-0.2005599 , -0.95177895],\n       [-0.45894553, -0.30487203],\n       [-0.8017033 ,  0.13654882],\n       [-0.41902735, -0.42930196],\n       [-0.08131341,  1.26856507],\n       [-2.12814825, -0.62052241],\n       [-1.21244052, -0.17911369],\n       [-0.90996458,  0.06850299],\n       [-0.91302544, -0.54291037],\n       [-0.7753358 , -0.32835288],\n       [-0.7569583 , -0.96498357],\n       [-0.21473329, -0.98774929],\n       [-1.43834014, -0.65182183],\n       [-1.51273341, -0.02755409],\n       [-1.96167836,  0.1524958 ],\n       [-1.79117035, -0.49745881],\n       [-1.30343836, -0.68624168],\n       [-1.45165377, -0.27380098],\n       [-1.10553253, -0.03972659],\n       [-0.30109692, -0.52697875],\n       [-1.39054586, -0.61147816],\n       [ 0.32752767, -0.24214451],\n       [-1.31995489, -0.61373622],\n       [-1.61863592, -0.55153523],\n       [-1.46890628, -0.22942445],\n       [-0.93706181, -0.65480505],\n       [-1.40062754, -0.06243535],\n       [-2.06392002, -0.83065423],\n       [-1.76468724, -0.12022447],\n       [-1.6195037 , -0.27094271],\n       [-1.46858291,  3.27733916],\n       [-0.49487048,  0.27855831],\n       [-1.12910094, -0.56334657],\n       [-2.12929212, -0.38459935],\n       [-2.34773594, -0.65680192]])"
          },
          "metadata": {}
        }
      ]
    },
    {
      "metadata": {
        "_cell_guid": "288c974d-386a-4dc9-b14a-7c82a557ed32",
        "_uuid": "ff2353b141b76f2634fd9c4ec0e573fc99815694"
      },
      "cell_type": "markdown",
      "source": "**Кластеризация k-средних**\n\nВ данном алгоритме необходимо пределить количество кластеров. Кластеры формируются на основе близости к центральному значению кластеров. Начальное значение центра выбирается случайным образом. Кластеризация K-средних - это подход сверху вниз, в том смысле, мы определяем количество кластеров (k), а затем группируем точки данных в k кластеров."
    },
    {
      "metadata": {
        "_cell_guid": "0cc42cc3-0adf-4587-929a-3257b0f3a080",
        "_uuid": "041d132411297bbc39d72e00d2119b1e68f9ed0d",
        "trusted": true,
        "scrolled": false
      },
      "cell_type": "code",
      "source": "#K means Clustering \ndef doKmeans(X, nclust=2):\n    model = KMeans(nclust)\n    model.fit(X)\n    clust_labels = model.predict(X)\n    cent = model.cluster_centers_\n    return (clust_labels, cent)\n\nclust_labels, centroids = doKmeans(wh2, 3)\nkmeans = pd.DataFrame(clust_labels)\nwh2.insert((wh2.shape[1]),'kmeans',kmeans)\nprint(centroids)\n",
      "execution_count": 240,
      "outputs": [
        {
          "output_type": "stream",
          "text": "[[ 1.43055207  0.18390268]\n [ 0.40265771  0.10554677]\n [ 0.99323215  0.0856676 ]]\n",
          "name": "stdout"
        }
      ]
    },
    {
      "metadata": {
        "_cell_guid": "88aa2f5e-d502-41cd-bbc8-d2337db14011",
        "_uuid": "bb7f6d3cced030d3e6664706dfe83c35c4fbed56",
        "trusted": true,
        "scrolled": false
      },
      "cell_type": "code",
      "source": "#Plot the clusters obtained using k means\nfig = plt.figure()\nax = fig.add_subplot(111)\nscatter = ax.scatter(wh1['Economy..GDP.per.Capita.'],wh1['Trust..Government.Corruption.'],\n                     c=kmeans[0],s=50)\nax.scatter(centroids[:,0],centroids[:,1], color='red', s=120)  \nax.set_title('K-Means Clustering')\nax.set_xlabel('GDP per Capita')\nax.set_ylabel('Corruption')\nplt.colorbar(scatter)",
      "execution_count": 241,
      "outputs": [
        {
          "output_type": "execute_result",
          "execution_count": 241,
          "data": {
            "text/plain": "<matplotlib.colorbar.Colorbar at 0x7fe5cd1ca208>"
          },
          "metadata": {}
        },
        {
          "output_type": "display_data",
          "data": {
            "text/plain": "<matplotlib.figure.Figure at 0x7fe5cd1d6898>",
            "image/png": "[encoded data removed]"
          },
          "metadata": {}
        }
      ]
    },
    {
      "metadata": {
        "_cell_guid": "9eb981b5-489e-4644-842c-3f2caee0f78e",
        "_uuid": "b9fd8f861f0533ee7e13cd716a4173bd3cd9f41d"
      },
      "cell_type": "markdown",
      "source": ""
    }
  ],
  "metadata": {
    "kernelspec": {
      "display_name": "Python 3",
      "language": "python",
      "name": "python3"
    },
    "language_info": {
      "name": "python",
      "version": "3.6.5",
      "mimetype": "text/x-python",
      "codemirror_mode": {
        "name": "ipython",
        "version": 3
      },
      "pygments_lexer": "ipython3",
      "nbconvert_exporter": "python",
      "file_extension": ".py"
    }
  },
  "nbformat": 4,
  "nbformat_minor": 1
}