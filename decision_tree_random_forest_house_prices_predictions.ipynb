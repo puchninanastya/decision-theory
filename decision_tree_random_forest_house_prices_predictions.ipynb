{
  "cells": [
    {
      "metadata": {
        "_cell_guid": "e81ee64d-e474-4662-9036-ce23df615199",
        "_uuid": "b6269c0e8f417f82daf093dda8fa0da6d2c57d86"
      },
      "cell_type": "markdown",
      "source": "# Predictions for House Prices competition\n\nThis is part of the Machine Learning course. \n\n# Decision Tree Model"
    },
    {
      "metadata": {
        "_cell_guid": "86b26423-563a-4fa1-a595-89e25ff93089",
        "_uuid": "1c728098629e1301643443b1341556a15c089b2b",
        "trusted": true,
        "scrolled": true
      },
      "cell_type": "code",
      "source": "import pandas as pd\nfrom sklearn.tree import DecisionTreeRegressor\nfrom sklearn.metrics import mean_absolute_error\nfrom sklearn.model_selection import train_test_split\n\n# Loading data\nmain_file_path = '../input/train.csv'\niowa_data = pd.read_csv(main_file_path)\ny = iowa_data.SalePrice\npredictors = ['LotArea', 'YearBuilt', '1stFlrSF', '2ndFlrSF', \n              'FullBath', 'BedroomAbvGr', 'TotRmsAbvGrd']\nX = iowa_data[predictors]\n\n# split data into training and validation data, for both predictors and target\n# The split is based on a random number generator. Supplying a numeric value to\n# the random_state argument guarantees we get the same split every time we\n# run this script.\ntrain_X, val_X, train_y, val_y = train_test_split(X, y, random_state = 0)\n\n# get mae using decision tree regressor \ndef get_mae_for_decision_tree(max_leaf_nodes, train_X, val_X, train_y, val_y):\n    # Define model\n    model = DecisionTreeRegressor(max_leaf_nodes=max_leaf_nodes, random_state=0)\n    # Fit model\n    model.fit(train_X, train_y)\n    # Make predictions\n    predicted_vals = model.predict(val_X)\n    # Calculate MAE\n    mae = mean_absolute_error(val_y, predicted_vals)\n    return(mae)\n    \nprint(\"Model using decision tree regressor.\")\n# compare MAE with differing values of max_leaf_nodes\nfor max_leaf_nodes in [5, 50, 500, 5000]:\n    my_mae = get_mae_for_decision_tree(max_leaf_nodes, train_X, val_X, train_y, val_y)\n    print(\"Max leaf nodes: %d  \\t\\t Mean Absolute Error:  %d\" %(max_leaf_nodes, my_mae))\n",
      "execution_count": 24,
      "outputs": [
        {
          "output_type": "stream",
          "text": "Model using decision tree regressor.\nMax leaf nodes: 5  \t\t Mean Absolute Error:  35190\nMax leaf nodes: 50  \t\t Mean Absolute Error:  27825\nMax leaf nodes: 500  \t\t Mean Absolute Error:  32662\nMax leaf nodes: 5000  \t\t Mean Absolute Error:  33382\n",
          "name": "stdout"
        }
      ]
    },
    {
      "metadata": {
        "_kg_hide-input": false,
        "_kg_hide-output": false,
        "_uuid": "0c19a2d26cf0ba181586d4912d9a160e87a070ca"
      },
      "cell_type": "markdown",
      "source": "# Random Forest Model"
    },
    {
      "metadata": {
        "trusted": true,
        "_uuid": "dcf1011b86bd702d60d1a2f09dbef6f73668773e"
      },
      "cell_type": "code",
      "source": "import pandas as pd\nfrom sklearn.ensemble import RandomForestRegressor\nfrom sklearn.metrics import mean_absolute_error\nfrom sklearn.model_selection import train_test_split\n\n# Loading data\nmain_file_path = '../input/train.csv'\niowa_data = pd.read_csv(main_file_path)\ny = iowa_data.SalePrice\npredictors = ['LotArea', 'YearBuilt', '1stFlrSF', '2ndFlrSF', \n              'FullBath', 'BedroomAbvGr', 'TotRmsAbvGrd']\nX = iowa_data[predictors]\n\n# split data into training and validation data, for both predictors and target\n# The split is based on a random number generator. Supplying a numeric value to\n# the random_state argument guarantees we get the same split every time we\n# run this script.\ntrain_X, val_X, train_y, val_y = train_test_split(X, y, random_state = 0)\n\nprint(\"Model using random forest regressor.\")\nforest_model = RandomForestRegressor()\nforest_model.fit(train_X, train_y)\niowa_predicted_vals = forest_model.predict(val_X)\nprint(\"Mean Absolute Error: %d\" %(mean_absolute_error(val_y, iowa_predicted_vals)))\n",
      "execution_count": 25,
      "outputs": [
        {
          "output_type": "stream",
          "text": "Model using random forest regressor.\nMean Absolute Error: 24065\n",
          "name": "stdout"
        }
      ]
    }
  ],
  "metadata": {
    "kernelspec": {
      "display_name": "Python 3",
      "language": "python",
      "name": "python3"
    },
    "language_info": {
      "name": "python",
      "version": "3.6.5",
      "mimetype": "text/x-python",
      "codemirror_mode": {
        "name": "ipython",
        "version": 3
      },
      "pygments_lexer": "ipython3",
      "nbconvert_exporter": "python",
      "file_extension": ".py"
    }
  },
  "nbformat": 4,
  "nbformat_minor": 1
}